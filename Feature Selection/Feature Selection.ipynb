{
 "cells": [
  {
   "cell_type": "code",
   "execution_count": 5,
   "metadata": {},
   "outputs": [],
   "source": [
    "import pandas as pd\n",
    "import numpy as np\n",
    "import matplotlib.pyplot as plt\n",
    "import seaborn as sns"
   ]
  },
  {
   "cell_type": "code",
   "execution_count": 6,
   "metadata": {},
   "outputs": [],
   "source": [
    "#Import data\n",
    "path = \"/Users/lilyhuang/Desktop/loan_level_500k.csv\"\n",
    "df = pd.read_csv(path)"
   ]
  },
  {
   "cell_type": "code",
   "execution_count": 7,
   "metadata": {},
   "outputs": [],
   "source": [
    "# Replace missing values with the median\n",
    "numeric_features = df.select_dtypes(include=['float64', 'int64']).columns\n",
    "imputer = SimpleImputer(strategy='median')\n",
    "df[numeric_features] = imputer.fit_transform(df[numeric_features])"
   ]
  },
  {
   "cell_type": "code",
   "execution_count": 8,
   "metadata": {},
   "outputs": [],
   "source": [
    "#Feature Selection\n",
    "from sklearn.feature_selection import SequentialFeatureSelector\n",
    "from sklearn.impute import SimpleImputer\n",
    "from sklearn.linear_model import LogisticRegression\n",
    "from sklearn.model_selection import train_test_split\n",
    "from sklearn.preprocessing import StandardScaler"
   ]
  },
  {
   "cell_type": "code",
   "execution_count": 9,
   "metadata": {},
   "outputs": [
    {
     "name": "stdout",
     "output_type": "stream",
     "text": [
      "Selected Features:\n",
      "Index(['CREDIT_SCORE', 'MORTGAGE_INSURANCE_PERCENTAGE', 'ORIGINAL_UPB',\n",
      "       'ORIGINAL_LOAN_TO_VALUE', 'ORIGINAL_INTEREST_RATE',\n",
      "       'NUMBER_OF_BORROWERS'],\n",
      "      dtype='object')\n"
     ]
    }
   ],
   "source": [
    "# Perform Backward Elimination\n",
    "import statsmodels.api as sm\n",
    "\n",
    "X = df[numeric_features]\n",
    "y = df['DELINQUENT']\n",
    "\n",
    "# Add a constant column to the feature matrix\n",
    "X = sm.add_constant(X)\n",
    "\n",
    "# Create a model using OLS (Ordinary Least Squares)\n",
    "model = sm.OLS(y, X)\n",
    "\n",
    "# Fit the model\n",
    "results = model.fit()\n",
    "\n",
    "# Perform backward elimination until there are exactly 6 features left\n",
    "while len(X.columns) > 7:  # Including the constant column\n",
    "    # Get the p-values for each feature\n",
    "    p_values = results.pvalues[1:]  # Exclude the constant column\n",
    "\n",
    "    # Identify the feature with the highest p-value\n",
    "    feature_to_remove = p_values.idxmax()\n",
    "\n",
    "    if p_values[feature_to_remove] > 0.05 or len(X.columns) > 7:\n",
    "        # Remove the feature if its p-value is greater than the significance level (e.g., 0.05)\n",
    "        X = X.drop(feature_to_remove, axis=1)\n",
    "        # Update the model\n",
    "        model = sm.OLS(y, X)\n",
    "        results = model.fit()\n",
    "    else:\n",
    "        break\n",
    "\n",
    "# Print the remaining features after backward elimination\n",
    "selected_features = X.columns[1:]  # Exclude the constant column\n",
    "print(\"Selected Features:\")\n",
    "print(selected_features)"
   ]
  },
  {
   "cell_type": "code",
   "execution_count": 10,
   "metadata": {},
   "outputs": [
    {
     "name": "stdout",
     "output_type": "stream",
     "text": [
      "Selected Features:\n",
      "['CREDIT_SCORE', 'FIRST_PAYMENT_DATE', 'MORTGAGE_INSURANCE_PERCENTAGE', 'ORIGINAL_UPB', 'NUMBER_OF_BORROWERS', 'ORIGINAL_INTEREST_RATE']\n"
     ]
    }
   ],
   "source": [
    "#Forward Feature Selection\n",
    "X = df[numeric_features]\n",
    "y = df['DELINQUENT']\n",
    "\n",
    "# Initialize an empty list to store selected features\n",
    "selected_features = []\n",
    "\n",
    "# Add a constant column (intercept) for the regression\n",
    "X_with_constant = sm.add_constant(X)\n",
    "\n",
    "# Start forward feature selection process\n",
    "while len(selected_features) < 6:  # Stop when 6 features are selected\n",
    "    remaining_features = [col for col in X.columns if col not in selected_features]\n",
    "    \n",
    "    # Create an empty dictionary to store p-values for the current iteration\n",
    "    p_values = {}\n",
    "\n",
    "    # Loop through remaining features and evaluate them\n",
    "    for feature in remaining_features:\n",
    "        # Fit model with the selected features plus the current feature\n",
    "        X_selected = X_with_constant[selected_features + [feature]]\n",
    "        model = sm.OLS(y, X_selected).fit()\n",
    "        \n",
    "        # Record the p-value for the current feature\n",
    "        p_values[feature] = model.pvalues[feature]\n",
    "    \n",
    "    # Find the feature with the lowest p-value\n",
    "    best_feature = min(p_values, key=p_values.get)\n",
    "    \n",
    "    # Add this feature to the selected features list\n",
    "    selected_features.append(best_feature)\n",
    "\n",
    "# Final model with selected features\n",
    "X_selected = X_with_constant[selected_features]\n",
    "final_model = sm.OLS(y, X_selected).fit()\n",
    "\n",
    "# Print the selected features\n",
    "print(\"Selected Features:\")\n",
    "print(selected_features)"
   ]
  },
  {
   "cell_type": "code",
   "execution_count": 13,
   "metadata": {},
   "outputs": [
    {
     "name": "stdout",
     "output_type": "stream",
     "text": [
      "Top 6 Features Selected by LASSO:\n",
      "CREDIT_SCORE: 0.037052\n",
      "NUMBER_OF_BORROWERS: 0.018592\n",
      "MORTGAGE_INSURANCE_PERCENTAGE: 0.011994\n",
      "ORIGINAL_INTEREST_RATE: 0.005072\n",
      "ORIGINAL_LOAN_TO_VALUE: 0.004976\n",
      "ORIGINAL_UPB: 0.004420\n",
      "\n",
      "Shape of the new dataset with selected features:\n",
      "(1000, 6)\n",
      "\n",
      "Sample of the new dataset:\n",
      "   CREDIT_SCORE  NUMBER_OF_BORROWERS  MORTGAGE_INSURANCE_PERCENTAGE  \\\n",
      "0         669.0                  2.0                            0.0   \n",
      "1         732.0                  1.0                            0.0   \n",
      "2         679.0                  1.0                           30.0   \n",
      "3         721.0                  2.0                            0.0   \n",
      "4         618.0                  2.0                           25.0   \n",
      "\n",
      "   ORIGINAL_INTEREST_RATE  ORIGINAL_LOAN_TO_VALUE  ORIGINAL_UPB  \n",
      "0                   7.120                    80.0        162000  \n",
      "1                   6.500                    25.0         53000  \n",
      "2                   6.750                    91.0        133000  \n",
      "3                   6.625                    39.0        174000  \n",
      "4                   6.375                    85.0        122000  \n"
     ]
    }
   ],
   "source": [
    "#LASSO\n",
    "import pandas as pd\n",
    "import numpy as np\n",
    "from sklearn.preprocessing import StandardScaler\n",
    "from sklearn.linear_model import Lasso\n",
    "from sklearn.model_selection import train_test_split\n",
    "\n",
    "# Load the dataset\n",
    "df = pd.read_csv(\"/Users/lilyhuang/Desktop/loan_level_500k.csv\").head(1000)\n",
    "\n",
    "# Select only numeric features\n",
    "numeric_features = df.select_dtypes(include=['float64', 'int64']).columns\n",
    "X = df[numeric_features]\n",
    "y = df['DELINQUENT']\n",
    "\n",
    "# Replace missing values with the median\n",
    "X = X.fillna(X.median())\n",
    "\n",
    "# Split the data into training and testing sets\n",
    "X_train, X_test, y_train, y_test = train_test_split(X, y, test_size=0.2, random_state=42)\n",
    "\n",
    "# Standardize numeric features\n",
    "scaler = StandardScaler()\n",
    "X_train_scaled = scaler.fit_transform(X_train)\n",
    "X_test_scaled = scaler.transform(X_test)\n",
    "\n",
    "# Create and fit the LASSO model\n",
    "lasso = Lasso(alpha=0.01, random_state=42)\n",
    "lasso.fit(X_train_scaled, y_train)\n",
    "\n",
    "# Calculate feature importance\n",
    "feature_importance = pd.Series(abs(lasso.coef_), index=X.columns)\n",
    "feature_importance = feature_importance.sort_values(ascending=False)\n",
    "\n",
    "# Select top 6 features\n",
    "top_6_features = feature_importance.head(6)\n",
    "\n",
    "print(\"Top 6 Features Selected by LASSO:\")\n",
    "for feature, importance in top_6_features.items():\n",
    "    print(f\"{feature}: {importance:.6f}\")\n",
    "\n",
    "# Create a new dataframe with only the selected features\n",
    "X_selected = X[top_6_features.index]\n",
    "\n",
    "print(\"\\nShape of the new dataset with selected features:\")\n",
    "print(X_selected.shape)\n",
    "\n",
    "print(\"\\nSample of the new dataset:\")\n",
    "print(X_selected.head())"
   ]
  },
  {
   "cell_type": "code",
   "execution_count": null,
   "metadata": {},
   "outputs": [],
   "source": []
  }
 ],
 "metadata": {
  "kernelspec": {
   "display_name": "Python 3",
   "language": "python",
   "name": "python3"
  },
  "language_info": {
   "codemirror_mode": {
    "name": "ipython",
    "version": 3
   },
   "file_extension": ".py",
   "mimetype": "text/x-python",
   "name": "python",
   "nbconvert_exporter": "python",
   "pygments_lexer": "ipython3",
   "version": "3.9.12"
  }
 },
 "nbformat": 4,
 "nbformat_minor": 2
}
